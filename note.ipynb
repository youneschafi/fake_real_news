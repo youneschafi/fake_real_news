{
 "cells": [
  {
   "cell_type": "code",
   "execution_count": null,
   "id": "13757df5",
   "metadata": {},
   "outputs": [],
   "source": [
    "import pandas as pd\n",
    "import numpy as np\n",
    "import matplotlib.pyplot as plt\n",
    "import seaborn as sns\n",
    "import re\n",
    "from sklearn.model_selection import train_test_split\n",
    "from sklearn.feature_extraction.text import TfidfVectorizer\n",
    "from sklearn.linear_model import LogisticRegression\n",
    "from sklearn.metrics import accuracy_score, classification_report\n",
    "import joblib\n",
    "import torch\n",
    "from transformers import AutoTokenizer, AutoModelForSequenceClassification, Trainer, TrainingArguments\n",
    "from datasets import Dataset"
   ]
  },
  {
   "cell_type": "code",
   "execution_count": 55,
   "id": "08060717",
   "metadata": {},
   "outputs": [],
   "source": [
    "df = pd.read_csv('WELFake_Dataset.csv')\n",
    "df = df[['id', 'title', 'text', 'label']]\n",
    "df.dropna(subset=['text'], inplace=True)\n",
    "df.fillna('', inplace=True)\n",
    "df['full_text'] = df['title'] + ' ' + df['text']\n",
    "df.drop_duplicates(subset='full_text', inplace=True)\n",
    "df.reset_index(drop=True, inplace=True)"
   ]
  },
  {
   "cell_type": "code",
   "execution_count": 104,
   "id": "e7bedc6e",
   "metadata": {},
   "outputs": [
    {
     "name": "stdout",
     "output_type": "stream",
     "text": [
      "label\n",
      "0    34791\n",
      "1    28848\n",
      "Name: count, dtype: int64\n",
      "count     63639.000000\n",
      "mean       3354.240403\n",
      "std        3636.689325\n",
      "min           2.000000\n",
      "25%        1505.000000\n",
      "50%        2531.000000\n",
      "75%        4173.500000\n",
      "max      143035.000000\n",
      "Name: length, dtype: float64\n"
     ]
    },
    {
     "data": {
      "image/png": "[encoded data removed]",
      "text/plain": [
       "<Figure size 640x480 with 1 Axes>"
      ]
     },
     "metadata": {},
     "output_type": "display_data"
    }
   ],
   "source": [
    "print(df['label'].value_counts())\n",
    "df['length'] = df['full_text'].str.len()\n",
    "print(df['length'].describe())\n",
    "sns.histplot(df['length'], kde=True)\n",
    "plt.show()"
   ]
  },
  {
   "cell_type": "code",
   "execution_count": 97,
   "id": "4d94ceb7",
   "metadata": {},
   "outputs": [],
   "source": [
    "def clean(text):\n",
    "    text = text.lower()\n",
    "    text = re.sub(r\"http\\S+\", \"\", text)\n",
    "    text = re.sub(r\"www\\.\\S+\", \"\", text)\n",
    "    news_sources = [\n",
    "        'reuters', 'breitbart', 'cnn', 'fox news', 'bbc', 'associated press', 'ap news',\n",
    "        'washington post', 'new york times', 'nytimes', 'huffington post', 'buzzfeed',\n",
    "        'daily mail', 'guardian', 'independent', 'telegraph', 'times', 'usa today',\n",
    "        'wall street journal', 'wsj', 'abc news', 'cbs news', 'nbc news', 'msnbc',\n",
    "        'fox', 'infowars', 'naturalnews', 'zerohedge', 'daily caller', 'daily wire',\n",
    "        'newsmax', 'oann', 'rt news', 'sputnik', 'drudge report'\n",
    "    ]\n",
    "    for source in news_sources:\n",
    "        text = re.sub(rf'\\b{re.escape(source)}\\b', '', text, flags=re.IGNORECASE)\n",
    "        text = re.sub(rf'\\b{re.escape(source)}\\.com\\b', '', text, flags=re.IGNORECASE)\n",
    "        text = re.sub(rf'\\b{re.escape(source)} news\\b', '', text, flags=re.IGNORECASE)\n",
    "    journalism_phrases = [\n",
    "        'reported by', 'according to sources', 'a spokesperson said',\n",
    "        'in a statement', 'told reporters', 'source:', 'via twitter',\n",
    "        'on twitter', 'follow us', 'subscribe to', 'breaking news',\n",
    "        'this story is developing', 'image via', 'photo credit',\n",
    "        'washington \\\\w+', 'new york \\\\w+', 'london \\\\w+'\n",
    "    ]\n",
    "    for phrase in journalism_phrases:\n",
    "        text = re.sub(rf'{phrase}', '', text, flags=re.IGNORECASE)\n",
    "    text = re.sub(r'\\b(january|february|march|april|may|june|july|august|september|october|november|december)\\s+\\d{1,2},?\\s+\\d{4}\\b', '', text, flags=re.IGNORECASE)\n",
    "    text = re.sub(r'\\b\\d{1,2}/\\d{1,2}/\\d{2,4}\\b', '', text)\n",
    "    text = re.sub(r'@\\w+', '', text)\n",
    "    text = re.sub(r'#\\w+', '', text)\n",
    "    text = re.sub(r\"[^a-z\\s]\", \"\", text)\n",
    "    text = re.sub(r\"\\s+\", \" \", text).strip()\n",
    "    return text"
   ]
  },
  {
   "cell_type": "code",
   "execution_count": 62,
   "id": "966a302a",
   "metadata": {},
   "outputs": [
    {
     "name": "stdout",
     "output_type": "stream",
     "text": [
      "Sample cleaned text:\n",
      "law enforcement on high alert following threats against cops and whites on by and terrorists video no comment is expected from barack obama members of the or and movements called for the lynching and hanging of white people and cops they encouraged others on a radio show tuesday night to turn the tide and kill white people and cops to send a message about the killing of black people in americaone of the fyoflag organizers is called sunshine she has a radio blog show hosted from texas called suns\n"
     ]
    }
   ],
   "source": [
    "df['clean_text'] = df['full_text'].apply(clean)\n",
    "print(\"Sample cleaned text:\")\n",
    "print(df['clean_text'].iloc[0][:500])"
   ]
  },
  {
   "cell_type": "code",
   "execution_count": 65,
   "id": "d5b1aaa5",
   "metadata": {},
   "outputs": [],
   "source": [
    "def add_content_features(df):\n",
    "    df['text_length'] = df['clean_text'].str.len()\n",
    "    df['exclamation_count'] = df['clean_text'].str.count('!')\n",
    "    df['question_count'] = df['clean_text'].str.count('\\\\?')\n",
    "    df['caps_ratio'] = df['clean_text'].str.count('[A-Z]') / df['text_length']\n",
    "    return df\n",
    "df=add_content_features(df)"
   ]
  },
  {
   "cell_type": "code",
   "execution_count": 66,
   "id": "17bd0f64",
   "metadata": {},
   "outputs": [],
   "source": [
    "X_train, X_test, y_train, y_test = train_test_split(df['clean_text'], df['label'], test_size=0.2, stratify=df['label'], random_state=42)"
   ]
  },
  {
   "cell_type": "code",
   "execution_count": 67,
   "id": "010f5396",
   "metadata": {},
   "outputs": [
    {
     "name": "stdout",
     "output_type": "stream",
     "text": [
      "TF-IDF Accuracy: 0.9445317410433689\n",
      "              precision    recall  f1-score   support\n",
      "\n",
      "           0       0.95      0.95      0.95      6958\n",
      "           1       0.94      0.94      0.94      5770\n",
      "\n",
      "    accuracy                           0.94     12728\n",
      "   macro avg       0.94      0.94      0.94     12728\n",
      "weighted avg       0.94      0.94      0.94     12728\n",
      "\n"
     ]
    }
   ],
   "source": [
    "vectorizer = TfidfVectorizer(max_features=20000, ngram_range=(1,2), min_df=2, max_df=0.95, stop_words='english')\n",
    "X_train_vec = vectorizer.fit_transform(X_train)\n",
    "X_test_vec = vectorizer.transform(X_test)\n",
    "clf = LogisticRegression(max_iter=1000)\n",
    "clf.fit(X_train_vec, y_train)\n",
    "pred_tfidf = clf.predict(X_test_vec)\n",
    "print(\"TF-IDF Accuracy:\", accuracy_score(y_test, pred_tfidf))\n",
    "print(classification_report(y_test, pred_tfidf))"
   ]
  },
  {
   "cell_type": "code",
   "execution_count": 68,
   "id": "7eff7d7b",
   "metadata": {},
   "outputs": [
    {
     "data": {
      "text/plain": [
       "['logreg_model.joblib']"
      ]
     },
     "execution_count": 68,
     "metadata": {},
     "output_type": "execute_result"
    }
   ],
   "source": [
    "joblib.dump(vectorizer, 'tfidf_vectorizer.joblib')\n",
    "joblib.dump(clf, 'logreg_model.joblib')"
   ]
  },
  {
   "cell_type": "code",
   "execution_count": 71,
   "id": "78196e56",
   "metadata": {},
   "outputs": [
    {
     "data": {
      "application/vnd.jupyter.widget-view+json": {
       "model_id": "fe509a136cce4f8dabd0b488a67c7ba8",
       "version_major": 2,
       "version_minor": 0
      },
      "text/plain": [
       "Map:   0%|          | 0/50911 [00:00<?, ? examples/s]"
      ]
     },
     "metadata": {},
     "output_type": "display_data"
    },
    {
     "data": {
      "application/vnd.jupyter.widget-view+json": {
       "model_id": "fff5b71cb9b940ce900d1e5b3e08bbb8",
       "version_major": 2,
       "version_minor": 0
      },
      "text/plain": [
       "Map:   0%|          | 0/12728 [00:00<?, ? examples/s]"
      ]
     },
     "metadata": {},
     "output_type": "display_data"
    }
   ],
   "source": [
    "model_name = \"distilbert-base-uncased\"\n",
    "tokenizer = AutoTokenizer.from_pretrained(model_name)\n",
    "def tokenize_fn(batch):\n",
    "    return tokenizer(batch['text'], truncation=True, padding='max_length', max_length=512)\n",
    "train_ds = Dataset.from_dict({'text': X_train.tolist(), 'label': y_train.tolist()})\n",
    "test_ds = Dataset.from_dict({'text': X_test.tolist(), 'label': y_test.tolist()})\n",
    "train_ds = train_ds.map(tokenize_fn, batched=True)\n",
    "test_ds = test_ds.map(tokenize_fn, batched=True)\n",
    "train_ds.set_format(type='torch', columns=['input_ids', 'attention_mask', 'label'])\n",
    "test_ds.set_format(type='torch', columns=['input_ids', 'attention_mask', 'label'])"
   ]
  },
  {
   "cell_type": "code",
   "execution_count": 72,
   "id": "e04f9859",
   "metadata": {},
   "outputs": [
    {
     "name": "stderr",
     "output_type": "stream",
     "text": [
      "Some weights of DistilBertForSequenceClassification were not initialized from the model checkpoint at distilbert-base-uncased and are newly initialized: ['classifier.bias', 'classifier.weight', 'pre_classifier.bias', 'pre_classifier.weight']\n",
      "You should probably TRAIN this model on a down-stream task to be able to use it for predictions and inference.\n"
     ]
    },
    {
     "data": {
      "text/html": [
       "\n",
       "    <div>\n",
       "      \n",
       "      <progress value='6364' max='6364' style='width:300px; height:20px; vertical-align: middle;'></progress>\n",
       "      [6364/6364 31:51, Epoch 1/1]\n",
       "    </div>\n",
       "    <table border=\"1\" class=\"dataframe\">\n",
       "  <thead>\n",
       " <tr style=\"text-align: left;\">\n",
       "      <th>Epoch</th>\n",
       "      <th>Training Loss</th>\n",
       "      <th>Validation Loss</th>\n",
       "    </tr>\n",
       "  </thead>\n",
       "  <tbody>\n",
       "    <tr>\n",
       "      <td>1</td>\n",
       "      <td>0.067600</td>\n",
       "      <td>0.060831</td>\n",
       "    </tr>\n",
       "  </tbody>\n",
       "</table><p>"
      ],
      "text/plain": [
       "<IPython.core.display.HTML object>"
      ]
     },
     "metadata": {},
     "output_type": "display_data"
    },
    {
     "data": {
      "text/html": [],
      "text/plain": [
       "<IPython.core.display.HTML object>"
      ]
     },
     "metadata": {},
     "output_type": "display_data"
    },
    {
     "data": {
      "text/plain": [
       "{'eval_loss': 0.06083128601312637,\n",
       " 'eval_runtime': 135.04,\n",
       " 'eval_samples_per_second': 94.254,\n",
       " 'eval_steps_per_second': 11.782,\n",
       " 'epoch': 1.0}"
      ]
     },
     "execution_count": 72,
     "metadata": {},
     "output_type": "execute_result"
    }
   ],
   "source": [
    "model = AutoModelForSequenceClassification.from_pretrained(model_name, num_labels=2)\n",
    "args = TrainingArguments(\n",
    "    output_dir='./transformer',\n",
    "    eval_strategy='epoch',\n",
    "    per_device_train_batch_size=8,\n",
    "    num_train_epochs=1,\n",
    "    learning_rate=2e-5,\n",
    "    save_strategy='epoch',\n",
    "    logging_steps=50,\n",
    "    save_total_limit=1\n",
    ")\n",
    "trainer = Trainer(model=model, args=args, train_dataset=train_ds, eval_dataset=test_ds)\n",
    "trainer.train()\n",
    "trainer.evaluate()"
   ]
  },
  {
   "cell_type": "code",
   "execution_count": 73,
   "id": "7c016d48",
   "metadata": {},
   "outputs": [
    {
     "data": {
      "text/plain": [
       "DistilBertForSequenceClassification(\n",
       "  (distilbert): DistilBertModel(\n",
       "    (embeddings): Embeddings(\n",
       "      (word_embeddings): Embedding(30522, 768, padding_idx=0)\n",
       "      (position_embeddings): Embedding(512, 768)\n",
       "      (LayerNorm): LayerNorm((768,), eps=1e-12, elementwise_affine=True)\n",
       "      (dropout): Dropout(p=0.1, inplace=False)\n",
       "    )\n",
       "    (transformer): Transformer(\n",
       "      (layer): ModuleList(\n",
       "        (0-5): 6 x TransformerBlock(\n",
       "          (attention): DistilBertSdpaAttention(\n",
       "            (dropout): Dropout(p=0.1, inplace=False)\n",
       "            (q_lin): Linear(in_features=768, out_features=768, bias=True)\n",
       "            (k_lin): Linear(in_features=768, out_features=768, bias=True)\n",
       "            (v_lin): Linear(in_features=768, out_features=768, bias=True)\n",
       "            (out_lin): Linear(in_features=768, out_features=768, bias=True)\n",
       "          )\n",
       "          (sa_layer_norm): LayerNorm((768,), eps=1e-12, elementwise_affine=True)\n",
       "          (ffn): FFN(\n",
       "            (dropout): Dropout(p=0.1, inplace=False)\n",
       "            (lin1): Linear(in_features=768, out_features=3072, bias=True)\n",
       "            (lin2): Linear(in_features=3072, out_features=768, bias=True)\n",
       "            (activation): GELUActivation()\n",
       "          )\n",
       "          (output_layer_norm): LayerNorm((768,), eps=1e-12, elementwise_affine=True)\n",
       "        )\n",
       "      )\n",
       "    )\n",
       "  )\n",
       "  (pre_classifier): Linear(in_features=768, out_features=768, bias=True)\n",
       "  (classifier): Linear(in_features=768, out_features=2, bias=True)\n",
       "  (dropout): Dropout(p=0.2, inplace=False)\n",
       ")"
      ]
     },
     "execution_count": 73,
     "metadata": {},
     "output_type": "execute_result"
    }
   ],
   "source": [
    "torch.cuda.empty_cache()\n",
    "model.cpu()"
   ]
  },
  {
   "cell_type": "code",
   "execution_count": 76,
   "id": "4521d4b3",
   "metadata": {},
   "outputs": [
    {
     "data": {
      "text/plain": [
       "('transformer_model\\\\tokenizer_config.json',\n",
       " 'transformer_model\\\\special_tokens_map.json',\n",
       " 'transformer_model\\\\vocab.txt',\n",
       " 'transformer_model\\\\added_tokens.json',\n",
       " 'transformer_model\\\\tokenizer.json')"
      ]
     },
     "execution_count": 76,
     "metadata": {},
     "output_type": "execute_result"
    }
   ],
   "source": [
    "trainer.save_model('transformer_model')\n",
    "tokenizer.save_pretrained('transformer_model')"
   ]
  },
  {
   "cell_type": "code",
   "execution_count": 77,
   "id": "bfb09279",
   "metadata": {},
   "outputs": [
    {
     "name": "stdout",
     "output_type": "stream",
     "text": [
      "Ensemble Accuracy: 0.9872721558768071\n",
      "              precision    recall  f1-score   support\n",
      "\n",
      "           0       0.99      0.99      0.99      6958\n",
      "           1       0.99      0.98      0.99      5770\n",
      "\n",
      "    accuracy                           0.99     12728\n",
      "   macro avg       0.99      0.99      0.99     12728\n",
      "weighted avg       0.99      0.99      0.99     12728\n",
      "\n"
     ]
    }
   ],
   "source": [
    "device = torch.device('cuda' if torch.cuda.is_available() else 'cpu')\n",
    "model.to(device)\n",
    "\n",
    "def get_bert_probs(texts, batch_size=16):\n",
    "    all_probs = []\n",
    "    for i in range(0, len(texts), batch_size):\n",
    "        batch = texts[i:i + batch_size]\n",
    "        inputs = tokenizer(batch, return_tensors='pt', truncation=True, padding=True, max_length=512)\n",
    "        inputs = {k: v.to(device) for k, v in inputs.items()}\n",
    "        with torch.no_grad():\n",
    "            logits = model(**inputs).logits\n",
    "            probs = torch.nn.functional.softmax(logits, dim=1).cpu().numpy()\n",
    "            all_probs.append(probs)\n",
    "    return np.vstack(all_probs)\n",
    "\n",
    "tfidf_probs = clf.predict_proba(X_test_vec)\n",
    "bert_probs = get_bert_probs(X_test.tolist())\n",
    "avg_probs = (tfidf_probs + bert_probs) / 2\n",
    "ensemble_preds = np.argmax(avg_probs, axis=1)\n",
    "print(\"Ensemble Accuracy:\", accuracy_score(y_test, ensemble_preds))\n",
    "print(classification_report(y_test, ensemble_preds))\n"
   ]
  },
  {
   "cell_type": "code",
   "execution_count": 78,
   "id": "28c67b9a",
   "metadata": {},
   "outputs": [],
   "source": [
    "import json\n",
    "scores = {\n",
    "    'tfidf_acc': accuracy_score(y_test, pred_tfidf),\n",
    "    'ensemble_acc': accuracy_score(y_test, ensemble_preds)\n",
    "}\n",
    "with open('metrics.json', 'w') as f:\n",
    "    json.dump(scores, f)"
   ]
  },
  {
   "cell_type": "code",
   "execution_count": 79,
   "id": "e4d9a099",
   "metadata": {},
   "outputs": [],
   "source": [
    "def predict(texts):\n",
    "    clean_texts = [clean(text) for text in texts]\n",
    "    X_tfidf = vectorizer.transform(clean_texts)\n",
    "    tfidf_out = clf.predict_proba(X_tfidf)\n",
    "    device = torch.device(\"cuda\" if torch.cuda.is_available() else \"cpu\")\n",
    "    enc = tokenizer(texts, return_tensors='pt', truncation=True, padding=True, max_length=512).to(device)\n",
    "    with torch.no_grad():\n",
    "        bert_out = model(**enc).logits\n",
    "        \n",
    "    bert_probs = torch.nn.functional.softmax(bert_out, dim=1).cpu().numpy()\n",
    "\n",
    "    final_probs = (tfidf_out + bert_probs) / 2\n",
    "    return ['real' if p[1] > 0.5 else 'fake' for p in final_probs]"
   ]
  },
  {
   "cell_type": "code",
   "execution_count": 80,
   "id": "0d0899b8",
   "metadata": {},
   "outputs": [
    {
     "name": "stdout",
     "output_type": "stream",
     "text": [
      "Transformer Accuracy: 0.9855436832181018\n"
     ]
    }
   ],
   "source": [
    "def evaluate_transformer(model, test_dataset):\n",
    "    predictions = trainer.predict(test_dataset)\n",
    "    preds = np.argmax(predictions.predictions, axis=1)\n",
    "    return accuracy_score(test_dataset['label'], preds)\n",
    "\n",
    "transformer_acc = evaluate_transformer(model, test_ds)\n",
    "print(f\"Transformer Accuracy: {transformer_acc}\")"
   ]
  },
  {
   "cell_type": "code",
   "execution_count": 43,
   "id": "6bb38574",
   "metadata": {},
   "outputs": [
    {
     "name": "stdout",
     "output_type": "stream",
     "text": [
      "TF-IDF CV Score: 0.9565 (+/- 0.0031)\n"
     ]
    }
   ],
   "source": [
    "from sklearn.model_selection import cross_val_score\n",
    "cv_scores = cross_val_score(clf, X_train_vec, y_train, cv=5)\n",
    "print(f\"TF-IDF CV Score: {cv_scores.mean():.4f} (+/- {cv_scores.std() * 2:.4f})\")"
   ]
  },
  {
   "cell_type": "code",
   "execution_count": 105,
   "id": "aafa52e9",
   "metadata": {},
   "outputs": [
    {
     "name": "stdout",
     "output_type": "stream",
     "text": [
      "Top features:\n",
      "said: -18.1396\n",
      "follow: -11.2105\n",
      "president donald: -9.7833\n",
      "washington: -9.5154\n",
      "video: 8.9875\n",
      "trumps: -8.5001\n",
      "don: 8.3506\n",
      "didn: 7.6521\n",
      "ve: 6.8749\n",
      "hillary: 6.5485\n",
      "doesn: 6.5209\n",
      "thursday: -6.3031\n",
      "just: 6.2719\n",
      "tuesday: -6.0054\n",
      "com: -5.8187\n",
      "monday: -5.6744\n",
      "friday: -5.6113\n",
      "wednesday: -5.5359\n",
      "images: 5.4953\n",
      "mr: -5.4687\n"
     ]
    }
   ],
   "source": [
    "feature_names = vectorizer.get_feature_names_out()\n",
    "coef = clf.coef_[0]\n",
    "top_features = np.argsort(np.abs(coef))[-20:]\n",
    "print(\"Top features:\")\n",
    "for idx in reversed(top_features):\n",
    "    print(f\"{feature_names[idx]}: {coef[idx]:.4f}\")"
   ]
  },
  {
   "cell_type": "code",
   "execution_count": 82,
   "id": "4c45832a",
   "metadata": {},
   "outputs": [],
   "source": [
    "def explain_prediction(text, top_n=10):\n",
    "    clean_text = clean(text)\n",
    "    tfidf_vec = vectorizer.transform([clean_text])\n",
    "    feature_names = vectorizer.get_feature_names_out()\n",
    "    scores = (tfidf_vec * clf.coef_).toarray()[0]\n",
    "    top_indices = np.argsort(np.abs(scores))[-top_n:]\n",
    "    for idx in reversed(top_indices):\n",
    "        if scores[idx] != 0:\n",
    "            print(f\"{feature_names[idx]}: {scores[idx]:.4f}\")"
   ]
  },
  {
   "cell_type": "code",
   "execution_count": 84,
   "id": "8b6004cb",
   "metadata": {},
   "outputs": [
    {
     "name": "stdout",
     "output_type": "stream",
     "text": [
      "['fake', 'fake']\n"
     ]
    }
   ],
   "source": [
    "examples = [\n",
    "    \"\"\"Title:\n",
    "Trump Claims “Presidential DNA” Should Be Registered as National Asset in Surprise Iowa Rally Statement\n",
    "\n",
    "Abstract:\n",
    "In a surprise appearance at a local fairground in Des Moines, Iowa, former President Donald J. Trump stunned attendees and political analysts alike by proposing that all former U.S. presidents — starting with himself — should have their DNA registered and preserved as “strategic national assets.”\n",
    "\n",
    "Speaking to a crowd of roughly 4,000 supporters, Trump deviated from his prepared remarks during a segment on “American greatness” to unveil what he called the Presidential Genome Preservation Act, a policy idea he said would be introduced “day one” if he retakes the White House in 2025. “They say I’m one of the healthiest, most genetically gifted presidents in history — maybe ever,” Trump told the cheering crowd. “We need to protect that DNA. Not just for me, but for future generations. For science. For the Space Force.”\n",
    "\n",
    "The proposal, which has no precedent in American law or bioethics policy, would reportedly involve collecting and cryogenically storing full genomic data from all living former presidents, beginning with Trump himself. A draft version of the policy — circulated to right-wing think tanks earlier this month — suggests the data could be used in “emergency scenarios involving national leadership restoration or historical cognitive modeling.”\n",
    "\n",
    "Legal scholars have immediately raised concerns about privacy, bio-sovereignty, and the Constitutionality of compulsory genetic preservation, with Yale Law professor Marsha Kulnick calling it “a bizarre fusion of techno-authoritarian fantasy and reality show science fiction.” Several former presidents’ representatives, including those of Barack Obama and George W. Bush, declined to comment.\n",
    "\n",
    "\"\"\",\n",
    "    \"\"\"SAN SALVADOR\n",
    "Reuters\n",
    " — \n",
    "A jury in El Salvador sentenced three retired high-ranking military officers to 15 years in prison for the murder of four Dutch journalists in 1982, one of the highest profile cases of the Central American nation’s civil war.\n",
    "\n",
    "The three were charged on Tuesday for the killings of journalists Koos Joster, Jan Kuiper Joop, Johannes Jan Wilemsen and Hans ter Laag, who were reporting for IKON Television during a 1982 military ambush on a group of former Farabundo Marti National Liberation Front (FMLN) guerrillas - some of whom were armed.\n",
    "\n",
    "A UN truth commission 11 years later found the ambush was “deliberately planned to surprise and kill the journalists.\n",
    "\n",
    "The trial was closed and details about the defendants’ pleas and arguments were not made public.\n",
    "\n",
    "El Salvador’s civil war stretched from 1980 to 1992, pitting leftist guerrillas against the US-backed Salvadoran army and leaving 75,000 people dead and 8,000 more missing.\n",
    "\n",
    "Former Defense Minister General Jose Guillermo Garcia was sentenced by a jury in the northern town of Chalatenango, alongside two colonels: former Treasury Police chief Francisco Moran and former infantry brigade commander Mario Reyes.\n",
    "\"\"\"\n",
    "]\n",
    "print(predict(examples))"
   ]
  },
  {
   "cell_type": "code",
   "execution_count": null,
   "id": "45a6b857",
   "metadata": {},
   "outputs": [
    {
     "name": "stdout",
     "output_type": "stream",
     "text": [
      "0.9542964051850862\n",
      "              precision    recall  f1-score   support\n",
      "\n",
      "        Fake       0.92      0.99      0.95     21417\n",
      "        Real       0.99      0.92      0.95     23481\n",
      "\n",
      "    accuracy                           0.95     44898\n",
      "   macro avg       0.95      0.96      0.95     44898\n",
      "weighted avg       0.96      0.95      0.95     44898\n",
      "\n"
     ]
    },
    {
     "data": {
      "image/png": "[encoded data removed]",
      "text/plain": [
       "<Figure size 640x480 with 2 Axes>"
      ]
     },
     "metadata": {},
     "output_type": "display_data"
    }
   ],
   "source": [
    "import pandas as pd\n",
    "import numpy as np\n",
    "from sklearn.metrics import accuracy_score, classification_report, confusion_matrix\n",
    "import seaborn as sns\n",
    "import matplotlib.pyplot as plt\n",
    "import joblib\n",
    "\n",
    "vectorizer = joblib.load('tfidf_vectorizer.joblib')\n",
    "clf = joblib.load('logreg_model.joblib')\n",
    "\n",
    "true_df = pd.read_csv(\"C:/Users/youne/Desktop/fakenews/True.csv\")\n",
    "false_df = pd.read_csv(\"C:/Users/youne/Desktop/fakenews/Fake.csv\")\n",
    "\n",
    "true_df['full_text'] = (true_df['title'].fillna('') + ' ' + true_df['text'].fillna('')).astype(str)\n",
    "false_df['full_text'] = (false_df['title'].fillna('') + ' ' + false_df['text'].fillna('')).astype(str)\n",
    "\n",
    "texts = true_df['full_text'].tolist() + false_df['full_text'].tolist()\n",
    "labels = [0] * len(true_df) + [1] * len(false_df)\n",
    "\n",
    "cleaned_texts = [clean(t) for t in texts]\n",
    "valid_indices = [i for i, t in enumerate(cleaned_texts) if len(t.strip()) > 10]\n",
    "cleaned_texts = [cleaned_texts[i] for i in valid_indices]\n",
    "labels = [labels[i] for i in valid_indices]\n",
    "X_test = vectorizer.transform(cleaned_texts)\n",
    "y_pred = clf.predict(X_test)\n",
    "y_proba = clf.predict_proba(X_test)\n",
    "\n",
    "acc = accuracy_score(labels, y_pred)\n",
    "print(acc)\n",
    "print(classification_report(labels, y_pred, target_names=['Fake', 'Real']))\n",
    "\n",
    "cm = confusion_matrix(labels, y_pred)\n",
    "sns.heatmap(cm, annot=True, fmt='d', cmap='Blues', \n",
    "            xticklabels=['Predicted Fake', 'Predicted Real'],\n",
    "            yticklabels=['Actually Fake', 'Actually Real'])\n",
    "plt.show()\n"
   ]
  }
 ],
 "metadata": {
  "kernelspec": {
   "display_name": ".venv",
   "language": "python",
   "name": "python3"
  },
  "language_info": {
   "codemirror_mode": {
    "name": "ipython",
    "version": 3
   },
   "file_extension": ".py",
   "mimetype": "text/x-python",
   "name": "python",
   "nbconvert_exporter": "python",
   "pygments_lexer": "ipython3",
   "version": "3.13.3"
  }
 },
 "nbformat": 4,
 "nbformat_minor": 5
}
